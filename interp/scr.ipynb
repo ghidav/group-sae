{
 "cells": [
  {
   "cell_type": "code",
   "execution_count": 1,
   "metadata": {},
   "outputs": [
    {
     "name": "stderr",
     "output_type": "stream",
     "text": [
      "/workspace/venv/lib/python3.10/site-packages/tqdm/auto.py:21: TqdmWarning: IProgress not found. Please update jupyter and ipywidgets. See https://ipywidgets.readthedocs.io/en/stable/user_install.html\n",
      "  from .autonotebook import tqdm as notebook_tqdm\n",
      "The `GPTNeoXSdpaAttention` class is deprecated in favor of simply modifying the `config._attn_implementation`attribute of the `GPTNeoXAttention` class! It will be removed in v4.48\n"
     ]
    }
   ],
   "source": [
    "from transformers import AutoTokenizer, AutoModelForCausalLM\n",
    "from datasets import load_dataset\n",
    "import torch\n",
    "\n",
    "device = \"cuda\" if torch.cuda.is_available() else \"cpu\"\n",
    "\n",
    "model_name = \"EleutherAI/pythia-160m-deduped\"\n",
    "dataset_name = \"EleutherAI/the_pile_deduplicated\"\n",
    "\n",
    "lm = AutoModelForCausalLM.from_pretrained(model_name)\n",
    "tokenizer = AutoTokenizer.from_pretrained(model_name)\n",
    "lm.to(device)\n",
    "\n",
    "dataset = load_dataset(dataset_name, split='train', streaming=True)"
   ]
  },
  {
   "cell_type": "code",
   "execution_count": 11,
   "metadata": {},
   "outputs": [],
   "source": [
    "from safetensors import safe_open\n",
    "import json\n",
    "\n",
    "PATH = \"../saes/pythia_160m-jr/baseline/8/\"\n",
    "state_dict = safe_open(PATH + \"sae.safetensors\", framework=\"torch\")\n",
    "with open(PATH + \"cfg.json\", \"r\") as f:\n",
    "    cfg = json.load(f)"
   ]
  },
  {
   "cell_type": "code",
   "execution_count": 12,
   "metadata": {},
   "outputs": [],
   "source": [
    "from group_sae import TopKSAEConfig, TopKSAE\n",
    "\n",
    "sae = TopKSAE(TopKSAEConfig(d_in=cfg[\"d_in\"], c=cfg[\"expansion_factor\"], k=cfg[\"k\"]))"
   ]
  },
  {
   "cell_type": "code",
   "execution_count": 14,
   "metadata": {},
   "outputs": [
    {
     "data": {
      "text/plain": [
       "<All keys matched successfully>"
      ]
     },
     "execution_count": 14,
     "metadata": {},
     "output_type": "execute_result"
    }
   ],
   "source": [
    "new_state_dict = {\n",
    "    \"W_enc\": state_dict.get_tensor(\"encoder.weight\").T,\n",
    "    \"b_enc\": state_dict.get_tensor(\"encoder.bias\"),\n",
    "    \"W_dec\": state_dict.get_tensor(\"W_dec\"),\n",
    "    \"b_dec\": state_dict.get_tensor(\"b_dec\"),\n",
    "}\n",
    "\n",
    "sae.load_state_dict(state_dict=new_state_dict)"
   ]
  },
  {
   "cell_type": "code",
   "execution_count": 5,
   "metadata": {},
   "outputs": [
    {
     "data": {
      "text/plain": [
       "['W_dec', 'b_dec', 'encoder.bias', 'encoder.weight', 'log_threshold']"
      ]
     },
     "execution_count": 5,
     "metadata": {},
     "output_type": "execute_result"
    }
   ],
   "source": []
  },
  {
   "cell_type": "code",
   "execution_count": null,
   "metadata": {},
   "outputs": [],
   "source": []
  }
 ],
 "metadata": {
  "kernelspec": {
   "display_name": "venv",
   "language": "python",
   "name": "python3"
  },
  "language_info": {
   "codemirror_mode": {
    "name": "ipython",
    "version": 3
   },
   "file_extension": ".py",
   "mimetype": "text/x-python",
   "name": "python",
   "nbconvert_exporter": "python",
   "pygments_lexer": "ipython3",
   "version": "3.10.13"
  }
 },
 "nbformat": 4,
 "nbformat_minor": 2
}
