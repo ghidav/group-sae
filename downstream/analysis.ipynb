{
 "cells": [
  {
   "cell_type": "code",
   "execution_count": null,
   "metadata": {},
   "outputs": [],
   "source": [
    "import matplotlib.pyplot as plt\n",
    "import numpy as np\n",
    "import pandas as pd\n",
    "import seaborn as sns\n",
    "\n",
    "from group_sae.utils import MODEL_MAP"
   ]
  },
  {
   "cell_type": "code",
   "execution_count": null,
   "metadata": {},
   "outputs": [],
   "source": [
    "task_mapping = {\n",
    "    \"ioi\": \"IOI\",\n",
    "    \"subject_verb\": \"Subject-Verb Agreement\",\n",
    "    \"greater_than\": \"Greater Than\",\n",
    "}"
   ]
  },
  {
   "cell_type": "code",
   "execution_count": null,
   "metadata": {},
   "outputs": [],
   "source": [
    "size = \"1b\"\n",
    "method = \"attrib\"\n",
    "what = \"faithfulness\"\n",
    "model = \"pythia-{}\".format(size)\n",
    "is_topk = True\n",
    "faith_dir = \"/home/fbelotti/group-sae/faithfulness/pythia-{}_downstream/faithfulness_{}\".format(\n",
    "    size, \"topk\" if is_topk else \"thr\"\n",
    ")\n",
    "dfs = []\n",
    "for task in [\"subject_verb\", \"ioi\", \"greater_than\"]:\n",
    "    for cluster in [\"Baseline\"] + [f\"K{i}\" for i in range(1, MODEL_MAP[model][\"n_layers\"] - 1)]:\n",
    "        df = pd.read_csv(f\"{faith_dir}/{model}_{task}_{cluster}_{method}_{what}.csv\")\n",
    "        df[\"G\"] = int(cluster.split(\"K\")[1]) if cluster != \"Baseline\" else 0\n",
    "        df[\"task\"] = task\n",
    "        dfs.append(df)\n",
    "faith_df = pd.concat(dfs)\n",
    "if not is_topk:\n",
    "    faith_df[\"N_cut\"] = pd.cut(faith_df[\"N\"], 50)\n",
    "    faith_df[\"N_cut\"] = faith_df[\"N_cut\"].apply(lambda x: x.mid)"
   ]
  },
  {
   "cell_type": "code",
   "execution_count": null,
   "metadata": {},
   "outputs": [],
   "source": [
    "faith_df"
   ]
  },
  {
   "cell_type": "code",
   "execution_count": null,
   "metadata": {},
   "outputs": [],
   "source": [
    "mean_df = faith_df.groupby([\"G\", \"N\"])[\"score\"].mean().reset_index()"
   ]
  },
  {
   "cell_type": "code",
   "execution_count": null,
   "metadata": {},
   "outputs": [],
   "source": [
    "faith_df_integrated = (\n",
    "    faith_df.groupby([\"task\", \"G\"]).apply(lambda x: np.trapz(x[\"score\"], x[\"N\"])).rename(\"area\")\n",
    ")\n",
    "faith_df_integrated = faith_df_integrated.reset_index()\n",
    "faith_df_integrated = faith_df_integrated.sort_values(by=[\"G\"])"
   ]
  },
  {
   "cell_type": "code",
   "execution_count": null,
   "metadata": {},
   "outputs": [],
   "source": [
    "mean_df_integrated = faith_df_integrated.groupby([\"G\"])[\"area\"].mean().reset_index()\n",
    "mean_df_integrated = mean_df_integrated.sort_values(by=[\"G\"])"
   ]
  },
  {
   "cell_type": "code",
   "execution_count": null,
   "metadata": {},
   "outputs": [],
   "source": [
    "palette = [\"gray\"] + sns.color_palette(\"flare\", n_colors=len(mean_df_integrated), as_cmap=False)[\n",
    "    1:\n",
    "]\n",
    "fig, axes = plt.subplots(2, 2, figsize=(15, 7), sharey=False)\n",
    "for i, task in enumerate([\"subject_verb\", \"ioi\", \"greater_than\"]):\n",
    "    ax = axes[i // 2, i % 2]\n",
    "    sns.lineplot(\n",
    "        data=faith_df[faith_df[\"task\"] == task],\n",
    "        x=\"N\",\n",
    "        y=\"score\",\n",
    "        hue=\"G\",\n",
    "        palette=palette,\n",
    "        ax=ax,\n",
    "        legend=i == 0,\n",
    "    )\n",
    "    if i == 0:\n",
    "        handles, labels = ax.get_legend_handles_labels()\n",
    "        ax.legend().remove()\n",
    "        labels[labels.index(\"0\")] = \"Baseline\"\n",
    "    ax.set_xlabel(\"G\")\n",
    "    ax.set_ylabel(\"AUC\")\n",
    "    ax.set_title(task_mapping[task])\n",
    "    ax.yaxis.set_tick_params(labelbottom=True)\n",
    "ax = axes[1, 1]\n",
    "sns.lineplot(\n",
    "    data=mean_df,\n",
    "    x=\"N\",\n",
    "    y=\"score\",\n",
    "    hue=\"G\",\n",
    "    palette=palette,\n",
    "    ax=ax,\n",
    "    legend=False,\n",
    ")\n",
    "ax.set_title(\"Average\")\n",
    "ax.yaxis.set_tick_params(labelbottom=True)\n",
    "fig.suptitle(f\"{model.title()} - {what.title()}\")\n",
    "fig.legend(handles, labels, loc=\"upper center\", bbox_to_anchor=(0.5, -0.01), ncols=5)\n",
    "plt.tight_layout()"
   ]
  },
  {
   "cell_type": "code",
   "execution_count": null,
   "metadata": {},
   "outputs": [],
   "source": [
    "palette = [\"gray\"] + sns.color_palette(\"flare\", n_colors=len(mean_df_integrated), as_cmap=False)[\n",
    "    1:\n",
    "]\n",
    "fig, axes = plt.subplots(2, 2, figsize=(15, 7), sharey=True)\n",
    "for i, task in enumerate([\"subject_verb\", \"ioi\", \"greater_than\"]):\n",
    "    ax = axes[i // 2, i % 2]\n",
    "    sns.barplot(\n",
    "        data=faith_df_integrated[faith_df_integrated[\"task\"] == task],\n",
    "        x=\"G\",\n",
    "        y=\"area\",\n",
    "        hue=\"G\",\n",
    "        palette=palette,\n",
    "        ax=ax,\n",
    "        legend=False,\n",
    "    )\n",
    "    ax.set_xlabel(\"G\")\n",
    "    ax.set_ylabel(\"AUC\")\n",
    "    ax.set_title(task_mapping[task])\n",
    "    ax.yaxis.set_tick_params(labelbottom=True)\n",
    "ax = axes[1, 1]\n",
    "sns.barplot(\n",
    "    data=mean_df_integrated,\n",
    "    x=\"G\",\n",
    "    y=\"area\",\n",
    "    hue=\"G\",\n",
    "    palette=palette,\n",
    "    ax=ax,\n",
    "    legend=False,\n",
    ")\n",
    "ax.set_title(\"Average\")\n",
    "ax.yaxis.set_tick_params(labelbottom=True)\n",
    "fig.suptitle(f\"{model.title()} - {what.title()}\")\n",
    "plt.tight_layout()"
   ]
  },
  {
   "cell_type": "code",
   "execution_count": null,
   "metadata": {},
   "outputs": [],
   "source": []
  }
 ],
 "metadata": {
  "kernelspec": {
   "display_name": ".venv",
   "language": "python",
   "name": "python3"
  },
  "language_info": {
   "codemirror_mode": {
    "name": "ipython",
    "version": 3
   },
   "file_extension": ".py",
   "mimetype": "text/x-python",
   "name": "python",
   "nbconvert_exporter": "python",
   "pygments_lexer": "ipython3",
   "version": "3.12.3"
  }
 },
 "nbformat": 4,
 "nbformat_minor": 2
}
